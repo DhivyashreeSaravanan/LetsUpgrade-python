{
  "nbformat": 4,
  "nbformat_minor": 0,
  "metadata": {
    "colab": {
      "name": "Untitled2.ipynb",
      "provenance": [],
      "collapsed_sections": [],
      "authorship_tag": "ABX9TyNsCMGHZvwwQgWy4TNRNWtK"
    },
    "kernelspec": {
      "name": "python3",
      "display_name": "Python 3"
    }
  },
  "cells": [
    {
      "cell_type": "code",
      "metadata": {
        "id": "qr38JBUvKBJT",
        "colab_type": "code",
        "colab": {
          "base_uri": "https://localhost:8080/",
          "height": 85
        },
        "outputId": "aa1d17a4-9e74-44c6-d469-ddd86fe336e2"
      },
      "source": [
        "print(\"\"\"             _         _\n",
        "       \\. _(9>       <6)_ ,/\n",
        "   jgs  \\==_)         (_==/  jgs\n",
        "         -'=           ='-      \"\"\")\n"
      ],
      "execution_count": 1,
      "outputs": [
        {
          "output_type": "stream",
          "text": [
            "             _         _\n",
            "       \\. _(9>       <6)_ ,/\n",
            "   jgs  \\==_)         (_==/  jgs\n",
            "         -'=           ='-      \n"
          ],
          "name": "stdout"
        }
      ]
    },
    {
      "cell_type": "code",
      "metadata": {
        "id": "dx5XUcY3LNcp",
        "colab_type": "code",
        "colab": {
          "base_uri": "https://localhost:8080/",
          "height": 34
        },
        "outputId": "b6b296ee-25a9-4a94-e863-514afb346e19"
      },
      "source": [
        "print(\"hello \\\n",
        " python\")"
      ],
      "execution_count": 4,
      "outputs": [
        {
          "output_type": "stream",
          "text": [
            "hello  python\n"
          ],
          "name": "stdout"
        }
      ]
    },
    {
      "cell_type": "code",
      "metadata": {
        "id": "CQwW5rzaLZ97",
        "colab_type": "code",
        "colab": {
          "base_uri": "https://localhost:8080/",
          "height": 51
        },
        "outputId": "b7931d85-8083-4be0-b0b1-2a206f9f5d21"
      },
      "source": [
        "print('the escape includes tab\\t for \\n the next line')\n"
      ],
      "execution_count": 6,
      "outputs": [
        {
          "output_type": "stream",
          "text": [
            "the escape includes tab\t for \n",
            " the next line\n"
          ],
          "name": "stdout"
        }
      ]
    },
    {
      "cell_type": "code",
      "metadata": {
        "id": "Zw5GLaRjL7bF",
        "colab_type": "code",
        "colab": {
          "base_uri": "https://localhost:8080/",
          "height": 51
        },
        "outputId": "b63ad2fb-59bf-411a-8add-cdc404542d6b"
      },
      "source": [
        "color='blue'\n",
        "cubeof9=729\n",
        "randomno=100.79\n",
        "print(\"the color %s ,cube of 9 %d,calling out a random number %f\"%(color,cubeof9,randomno))\n",
        "print(\"color:\",color,\"cube of 9\",cubeof9,\"random no\",randomno)\n"
      ],
      "execution_count": 12,
      "outputs": [
        {
          "output_type": "stream",
          "text": [
            "the color blue ,cube of 9 729,calling out a random number 100.790000\n",
            "color: blue cube of 9 729 random no 100.79\n"
          ],
          "name": "stdout"
        }
      ]
    },
    {
      "cell_type": "code",
      "metadata": {
        "id": "4LMtTfFsNqbz",
        "colab_type": "code",
        "colab": {
          "base_uri": "https://localhost:8080/",
          "height": 102
        },
        "outputId": "15b1e552-1acf-4954-c5ce-929f11b96560"
      },
      "source": [
        "print(\"assignment operator\")\n",
        "a=b=c=10\n",
        "d=20\n",
        "print(a,b,c);\n",
        "print(\"arithematic operator\")\n",
        "print(\" square of 99\",99**2)\n",
        "print(\"add\",a+d ,\"differnce\",a-d,\"division\",a/d,\"modulus\",a%d,\"floor\",a//d)\n"
      ],
      "execution_count": 16,
      "outputs": [
        {
          "output_type": "stream",
          "text": [
            "assignment operator\n",
            "10 10 10\n",
            "arithematic operator\n",
            " square of 99 9801\n",
            "add 30 differnce -10 division 0.5 modulus 10 floor 0\n"
          ],
          "name": "stdout"
        }
      ]
    },
    {
      "cell_type": "code",
      "metadata": {
        "id": "SWHbszjbPEO8",
        "colab_type": "code",
        "colab": {
          "base_uri": "https://localhost:8080/",
          "height": 102
        },
        "outputId": "dfa3ffe6-4ee3-4e14-bcc6-4ce2c2252a9f"
      },
      "source": [
        "print(\"assignment operator\")\n",
        "q=100\n",
        "w=500\n",
        "q+=w\n",
        "print(q)\n",
        "q-=w\n",
        "print(q)\n",
        "q*=w\n",
        "print(q)\n",
        "q/=w\n",
        "print(q)"
      ],
      "execution_count": 24,
      "outputs": [
        {
          "output_type": "stream",
          "text": [
            "assignment operator\n",
            "600\n",
            "100\n",
            "50000\n",
            "100.0\n"
          ],
          "name": "stdout"
        }
      ]
    },
    {
      "cell_type": "code",
      "metadata": {
        "id": "LNkg1s-kQiyw",
        "colab_type": "code",
        "colab": {
          "base_uri": "https://localhost:8080/",
          "height": 102
        },
        "outputId": "94280fab-2bb9-4915-c8a4-77ed32dd2a9f"
      },
      "source": [
        "z=10\n",
        "x=10\n",
        "print(\"relational operator\")\n",
        "print(z==x)\n",
        "print(z!=x)\n",
        "print(z<=x)\n",
        "print(z>=x|z<x)\n",
        "print(z>=x&z<x)\n",
        "\n"
      ],
      "execution_count": 28,
      "outputs": [
        {
          "output_type": "stream",
          "text": [
            "True\n",
            "False\n",
            "True\n",
            "False\n",
            "False\n"
          ],
          "name": "stdout"
        }
      ]
    },
    {
      "cell_type": "code",
      "metadata": {
        "id": "uc5MK_Z3S3tw",
        "colab_type": "code",
        "colab": {
          "base_uri": "https://localhost:8080/",
          "height": 68
        },
        "outputId": "9d9ea0d7-eab0-4fe3-8e7e-2fa3ca685aa1"
      },
      "source": [
        "print(\"logical operator\")\n",
        "a=6\n",
        "b=8\n",
        "print(a>b and b>a)\n",
        "print(a>b or b>a)"
      ],
      "execution_count": 33,
      "outputs": [
        {
          "output_type": "stream",
          "text": [
            "logical operator\n",
            "False\n",
            "True\n"
          ],
          "name": "stdout"
        }
      ]
    },
    {
      "cell_type": "code",
      "metadata": {
        "id": "3tVmLf8eSEqT",
        "colab_type": "code",
        "colab": {
          "base_uri": "https://localhost:8080/",
          "height": 85
        },
        "outputId": "a6003469-8aa9-4253-c36c-475694d04eb9"
      },
      "source": [
        "print(\"bitwise operator\")\n",
        "a=1\n",
        "b=2\n",
        "print(a|b)\n",
        "print(a&b)\n",
        "print(a^b)\n"
      ],
      "execution_count": 31,
      "outputs": [
        {
          "output_type": "stream",
          "text": [
            "bitwise operator\n",
            "3\n",
            "0\n",
            "3\n"
          ],
          "name": "stdout"
        }
      ]
    }
  ]
}